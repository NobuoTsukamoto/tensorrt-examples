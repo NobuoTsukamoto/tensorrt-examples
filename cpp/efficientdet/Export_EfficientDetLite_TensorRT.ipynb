{
  "nbformat": 4,
  "nbformat_minor": 0,
  "metadata": {
    "colab": {
      "name": "Export_EfficientDetLite_TensorRT.ipynb",
      "provenance": [],
      "collapsed_sections": []
    },
    "kernelspec": {
      "name": "python3",
      "display_name": "Python 3"
    },
    "language_info": {
      "name": "python"
    },
    "accelerator": "GPU"
  },
  "cells": [
    {
      "cell_type": "markdown",
      "metadata": {
        "id": "xc7PIZE8JLOn"
      },
      "source": [
        "# TensorRT EfficientDet-Lite Model Conversion AutoML Models to ONNX Model"
      ]
    },
    {
      "cell_type": "markdown",
      "metadata": {
        "id": "gyTSjP0tSbOy"
      },
      "source": [
        "This notebook contains a sample that converts EfficientDet-Lite's AutoML Model into an ONNX model for running on TensorRT.  \n",
        "\n",
        "Reference\n",
        "- [EfficientDet Object Detection in TensorRT](https://github.com/NVIDIA/TensorRT/tree/main/samples/python/efficientdet)\n",
        "- [EfficientDet](https://github.com/google/automl/tree/master/efficientdet)"
      ]
    },
    {
      "cell_type": "markdown",
      "metadata": {
        "id": "IVN4iRp-MANe"
      },
      "source": [
        "# Export Saved Model"
      ]
    },
    {
      "cell_type": "markdown",
      "metadata": {
        "id": "Y7KCVFV6v3hB"
      },
      "source": [
        "## Clone [google/automl](https://github.com/google/automl) repository and install dependency.\n"
      ]
    },
    {
      "cell_type": "code",
      "metadata": {
        "id": "p92ZK9WgMUO-"
      },
      "source": [
        "%%bash\n",
        "\n",
        "cd /content\n",
        "git clone https://github.com/google/automl\n",
        "cd automl\n",
        "git checkout 38ecb93913fc19e429ab2a572f1aa8f5286723cf\n",
        "cd efficientdet\n",
        "pip3 install -r requirements.txt"
      ],
      "execution_count": null,
      "outputs": []
    },
    {
      "cell_type": "code",
      "metadata": {
        "id": "-hdNRMKmghcl"
      },
      "source": [
        "import os\n",
        "import yaml\n",
        "\n",
        "os.environ['PYTHONPATH'] = '/content/automl/efficientdet:' + os.environ['PYTHONPATH']\n",
        "print(os.environ['PYTHONPATH'])"
      ],
      "execution_count": null,
      "outputs": []
    },
    {
      "cell_type": "markdown",
      "metadata": {
        "id": "5mAZX3UcwNOv"
      },
      "source": [
        "## Download EfficentDet Lite checkpoint and export saved model."
      ]
    },
    {
      "cell_type": "markdown",
      "metadata": {
        "id": "1I-MAXHA2ULX"
      },
      "source": [
        "### Download checkpoint\n",
        "\n",
        "Select the checkpoint you want to export."
      ]
    },
    {
      "cell_type": "code",
      "metadata": {
        "id": "XBoqlDSUzj_X"
      },
      "source": [
        "#@title Select EfficientDet-lite model.\n",
        "\n",
        "checkpoints = 'efficientdet-lite1' #@param [\"efficientdet-lite0\", \"efficientdet-lite1\", \"efficientdet-lite2\", \"efficientdet-lite3\", \"efficientdet-lite3x\", \"efficientdet-lite4\"] {allow-input: false}\n"
      ],
      "execution_count": null,
      "outputs": []
    },
    {
      "cell_type": "code",
      "metadata": {
        "id": "KL807XNIgbgH"
      },
      "source": [
        "file_name = checkpoints + \".tgz\"\n",
        "path = \"https://storage.googleapis.com/cloud-tpu-checkpoints/efficientdet/coco/\" + file_name\n",
        "\n",
        "!wget $path\n",
        "!tar xf $file_name"
      ],
      "execution_count": null,
      "outputs": []
    },
    {
      "cell_type": "code",
      "metadata": {
        "id": "bnLxJBP263Je"
      },
      "source": [
        "size = {\n",
        "    \"efficientdet-lite0\":\"320x320\",\n",
        "    \"efficientdet-lite1\":\"384x384\",\n",
        "    \"efficientdet-lite2\":\"448x448\",\n",
        "    \"efficientdet-lite3\":\"512x512\",\n",
        "    \"efficientdet-lite3x\":\"640x640\",\n",
        "    \"efficientdet-lite4\":\"640x640\",\n",
        "}"
      ],
      "execution_count": null,
      "outputs": []
    },
    {
      "cell_type": "markdown",
      "metadata": {
        "id": "hHbfx90N16-4"
      },
      "source": [
        "### Set NMS configs"
      ]
    },
    {
      "cell_type": "code",
      "metadata": {
        "id": "Oxq6eFnMltRu"
      },
      "source": [
        "obj = { 'image_size': size[checkpoints],\n",
        "       'nms_configs': {\n",
        "           'method': 'hard',\n",
        "           'iou_thresh': 0.35,\n",
        "           'score_thresh': 0.,\n",
        "           'sigma': 0.0,\n",
        "           'pyfunc': False,\n",
        "           'max_nms_inputs': 0,\n",
        "           'max_output_size': 100\n",
        "           }\n",
        "       }\n",
        "\n",
        "with open('saved_model.yaml', 'w') as file:\n",
        "    yaml.dump(obj, file)"
      ],
      "execution_count": null,
      "outputs": []
    },
    {
      "cell_type": "code",
      "metadata": {
        "id": "7-k9lq3HtlOj"
      },
      "source": [
        "!cat saved_model.yaml"
      ],
      "execution_count": null,
      "outputs": []
    },
    {
      "cell_type": "markdown",
      "metadata": {
        "id": "4BNt4C-XWftC"
      },
      "source": [
        "### Export Saved Model"
      ]
    },
    {
      "cell_type": "code",
      "metadata": {
        "id": "NZxZ9sZX6tao"
      },
      "source": [
        "model_dir = os.path.join(\"/content\", checkpoints)\n",
        "saved_model_dir = os.path.join(\"/content\", \"saved_model_\" + checkpoints)"
      ],
      "execution_count": null,
      "outputs": []
    },
    {
      "cell_type": "code",
      "metadata": {
        "id": "_uYpqiV9iSr5"
      },
      "source": [
        "# Export Saved model\n",
        "!python /content/automl/efficientdet/tf2/inspector.py \\\n",
        "    --mode=export \\\n",
        "    --model_name=$checkpoints \\\n",
        "    --model_dir=$model_dir \\\n",
        "    --saved_model_dir=$saved_model_dir \\\n",
        "    --hparams=/content/saved_model.yaml"
      ],
      "execution_count": null,
      "outputs": []
    },
    {
      "cell_type": "markdown",
      "metadata": {
        "id": "HIrcd6Qy2l-P"
      },
      "source": [
        "# Export ONNX"
      ]
    },
    {
      "cell_type": "markdown",
      "metadata": {
        "id": "Kxml0yQr2nqm"
      },
      "source": [
        "## Clone [NVIDIA/TensorRT](https://github.com/NVIDIA/TensorRT) repository and install dependency."
      ]
    },
    {
      "cell_type": "code",
      "metadata": {
        "id": "8JjgABL4gMKw"
      },
      "source": [
        "%%bash\n",
        "\n",
        "cd /content\n",
        "git clone https://github.com/NVIDIA/TensorRT\n",
        "cd TensorRT\n",
        "git checkout 2d517d270e3697a5775e7861873dc21d5fba6bae\n",
        "cd /content/TensorRT/samples/python/efficientdet\n",
        "\n",
        "pip3 install -r requirements.txt\n",
        "pip3 install onnx-graphsurgeon --index-url https://pypi.ngc.nvidia.com"
      ],
      "execution_count": null,
      "outputs": []
    },
    {
      "cell_type": "code",
      "metadata": {
        "id": "ha7r5YfSkoPh"
      },
      "source": [
        "%cd /content/TensorRT/samples/python/efficientdet"
      ],
      "execution_count": null,
      "outputs": []
    },
    {
      "cell_type": "markdown",
      "metadata": {
        "id": "B2VyLH1wMz0U"
      },
      "source": [
        "## Export ONNX Model"
      ]
    },
    {
      "cell_type": "code",
      "metadata": {
        "id": "2c8XWCfL287A"
      },
      "source": [
        "input_shape = {\n",
        "    \"efficientdet-lite0\":\"1,320,320,3\",\n",
        "    \"efficientdet-lite1\":\"1,384,384,3\",\n",
        "    \"efficientdet-lite2\":\"1,448,448,3\",\n",
        "    \"efficientdet-lite3\":\"1,512,512,3\",\n",
        "    \"efficientdet-lite3x\":\"1,640,640,3\",\n",
        "    \"efficientdet-lite4\":\"1,640,640,3\",\n",
        "}"
      ],
      "execution_count": null,
      "outputs": []
    },
    {
      "cell_type": "code",
      "metadata": {
        "id": "HH4fyzBp3YBK"
      },
      "source": [
        "input = input_shape[checkpoints]\n",
        "output = os.path.join(\"/content\", checkpoints + \".onnx\")"
      ],
      "execution_count": null,
      "outputs": []
    },
    {
      "cell_type": "code",
      "metadata": {
        "id": "gDCqKQdMkvDd"
      },
      "source": [
        "!python3 create_onnx.py \\\n",
        "    --input_shape $input \\\n",
        "    --saved_model $saved_model_dir \\\n",
        "    --onnx $output"
      ],
      "execution_count": null,
      "outputs": []
    },
    {
      "cell_type": "markdown",
      "metadata": {
        "id": "zKOXwyfDM43s"
      },
      "source": [
        "Now Download ONNX Model."
      ]
    }
  ]
}